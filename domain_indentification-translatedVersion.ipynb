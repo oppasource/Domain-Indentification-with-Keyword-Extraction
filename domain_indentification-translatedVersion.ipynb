{
 "cells": [
  {
   "cell_type": "markdown",
   "metadata": {},
   "source": [
    "## imports"
   ]
  },
  {
   "cell_type": "code",
   "execution_count": 1,
   "metadata": {},
   "outputs": [
    {
     "name": "stderr",
     "output_type": "stream",
     "text": [
      "Using TensorFlow backend.\n"
     ]
    }
   ],
   "source": [
    "import json\n",
    "import random\n",
    "\n",
    "import re\n",
    "import string\n",
    "import os.path\n",
    "import timeit\n",
    "import itertools\n",
    "from itertools import chain\n",
    "\n",
    "import pickle\n",
    "import matplotlib.pyplot as plt\n",
    "from nltk.corpus import stopwords\n",
    "\n",
    "from keras.models import Sequential, load_model, Model\n",
    "from keras.preprocessing.sequence import pad_sequences\n",
    "from keras.layers import Input, Dense, Embedding, Flatten, LSTM, Bidirectional, TimeDistributed, Dropout, Activation\n",
    "\n",
    "%matplotlib inline\n",
    "%config InlineBackend.figure_formats = ['svg']\n",
    "\n",
    "from googletrans import Translator\n",
    "translator = Translator()"
   ]
  },
  {
   "cell_type": "markdown",
   "metadata": {},
   "source": [
    "## translation"
   ]
  },
  {
   "cell_type": "code",
   "execution_count": 2,
   "metadata": {},
   "outputs": [],
   "source": [
    "text = \"नौसेना के वाइस ऐडमिरल बिमल वर्मा अगले नौसेना प्रमुख के तौर पर अपनी नियुक्ति ना होने को लेकर आर्म्ड फोर्सेस ट्रिब्युनल पहुंच गए हैं।\\\n",
    "        केंद्र ने 23 मार्च को वर्मा से जूनियर रहे वाइस ऐडमिरल करमबीर सिंह को अगले नौसेना प्रमुख के तौर पर नियुक्त किया था जो 31 मई \\\n",
    "        को रिटायर हो रहे ऐडमिरल सुनील लांबा की जगह लेंगे।\"\n",
    "\n",
    "translated = translator.translate(text, src='hi')"
   ]
  },
  {
   "cell_type": "code",
   "execution_count": null,
   "metadata": {},
   "outputs": [],
   "source": [
    "dir(translated)"
   ]
  },
  {
   "cell_type": "code",
   "execution_count": 3,
   "metadata": {},
   "outputs": [
    {
     "data": {
      "text/plain": [
       "'Naval Vice Admiral Bimal Verma has reached Armed Forces Tribunal for not being appointed as the next Naval Chief. On March 23, the center had appointed Vice Admiral Karmibir Singh, Jr. from Verma as the next Navy Chief, who will replace Admiral Sunil Lamba, who retires on May 31.'"
      ]
     },
     "execution_count": 3,
     "metadata": {},
     "output_type": "execute_result"
    }
   ],
   "source": [
    "translated.text"
   ]
  },
  {
   "cell_type": "code",
   "execution_count": 13,
   "metadata": {},
   "outputs": [],
   "source": [
    "def translateByTokens(text, source_lang='hi'):\n",
    "    text = text.split()\n",
    "    \n",
    "    # pair of (src_token, dest_token)\n",
    "    trans_text = [(w, translator.translate(w, src=source_lang).text) for w in text]\n",
    "    \n",
    "    # translated text\n",
    "    eng_text = \" \".join([elem[1] for elem in trans_text])\n",
    "    \n",
    "    # can return the cleaned the eng_text if desired\n",
    "    # eng_text = clean_text(eng_text)\n",
    "    return (trans_text, eng_text)\n",
    "    \n",
    "    \n",
    "def translate(text, source_lang='hi'):\n",
    "    eng_text = translator.translate(text, src=source_lang).text\n",
    "    return eng_text\n",
    "\n",
    "        "
   ]
  },
  {
   "cell_type": "code",
   "execution_count": 11,
   "metadata": {},
   "outputs": [
    {
     "data": {
      "text/plain": [
       "([('नौसेना', 'Navy'),\n",
       "  ('के', 'Of'),\n",
       "  ('वाइस', 'Vice'),\n",
       "  ('ऐडमिरल', 'Admiral'),\n",
       "  ('बिमल', 'Bimal'),\n",
       "  ('वर्मा', 'Verma'),\n",
       "  ('अगले', 'Next'),\n",
       "  ('नौसेना', 'Navy'),\n",
       "  ('प्रमुख', 'Chief'),\n",
       "  ('के', 'Of'),\n",
       "  ('तौर', 'Modus operandi'),\n",
       "  ('पर', 'On'),\n",
       "  ('अपनी', 'mine'),\n",
       "  ('नियुक्ति', 'Appointment'),\n",
       "  ('ना', 'No'),\n",
       "  ('होने', 'Having'),\n",
       "  ('को', 'To'),\n",
       "  ('लेकर', 'By taking'),\n",
       "  ('आर्म्ड', 'armed'),\n",
       "  ('फोर्सेस', 'Forces'),\n",
       "  ('ट्रिब्युनल', 'Tribunal'),\n",
       "  ('पहुंच', 'the access'),\n",
       "  ('गए', 'went'),\n",
       "  ('हैं।', 'Are.'),\n",
       "  ('केंद्र', 'center'),\n",
       "  ('ने', 'has'),\n",
       "  ('23', '23'),\n",
       "  ('मार्च', 'March'),\n",
       "  ('को', 'To'),\n",
       "  ('वर्मा', 'Verma'),\n",
       "  ('से', 'From'),\n",
       "  ('जूनियर', 'Junior'),\n",
       "  ('रहे', 'are'),\n",
       "  ('वाइस', 'Vice'),\n",
       "  ('ऐडमिरल', 'Admiral'),\n",
       "  ('करमबीर', 'Karambir'),\n",
       "  ('सिंह', 'Lion'),\n",
       "  ('को', 'To'),\n",
       "  ('अगले', 'Next'),\n",
       "  ('नौसेना', 'Navy'),\n",
       "  ('प्रमुख', 'Chief'),\n",
       "  ('के', 'Of'),\n",
       "  ('तौर', 'Modus operandi'),\n",
       "  ('पर', 'On'),\n",
       "  ('नियुक्त', 'Appointed'),\n",
       "  ('किया', 'Did'),\n",
       "  ('था', 'Was'),\n",
       "  ('जो', 'that'),\n",
       "  ('31', '31'),\n",
       "  ('मई', 'May'),\n",
       "  ('को', 'To'),\n",
       "  ('रिटायर', 'Retire'),\n",
       "  ('हो', 'Ho'),\n",
       "  ('रहे', 'are'),\n",
       "  ('ऐडमिरल', 'Admiral'),\n",
       "  ('सुनील', 'Sunil'),\n",
       "  ('लांबा', 'Length'),\n",
       "  ('की', 'Of'),\n",
       "  ('जगह', 'place'),\n",
       "  ('लेंगे।', 'Will do')],\n",
       " 'Navy Of Vice Admiral Bimal Verma Next Navy Chief Of Modus operandi On mine Appointment No Having To By taking armed Forces Tribunal the access went Are. center has 23 March To Verma From Junior are Vice Admiral Karambir Lion To Next Navy Chief Of Modus operandi On Appointed Did Was that 31 May To Retire Ho are Admiral Sunil Length Of place Will do')"
      ]
     },
     "execution_count": 11,
     "metadata": {},
     "output_type": "execute_result"
    }
   ],
   "source": [
    "translateByTokens(text)"
   ]
  },
  {
   "cell_type": "code",
   "execution_count": 14,
   "metadata": {},
   "outputs": [
    {
     "data": {
      "text/plain": [
       "'Naval Vice Admiral Bimal Verma has reached Armed Forces Tribunal for not being appointed as the next Naval Chief. On March 23, the center had appointed Vice Admiral Karmibir Singh, Jr. from Verma as the next Navy Chief, who will replace Admiral Sunil Lamba, who retires on May 31.'"
      ]
     },
     "execution_count": 14,
     "metadata": {},
     "output_type": "execute_result"
    }
   ],
   "source": [
    "translate(text)"
   ]
  },
  {
   "cell_type": "markdown",
   "metadata": {},
   "source": [
    "## model"
   ]
  },
  {
   "cell_type": "code",
   "execution_count": 33,
   "metadata": {},
   "outputs": [],
   "source": [
    "# creating model \n",
    "ip = Input(shape=(MAX_SENT_LEN,))\n",
    "\n",
    "model = Embedding(input_dim = VOCAB_SIZE, output_dim = 50, input_length = MAX_SENT_LEN)(ip)\n",
    "model = Dropout(0.2)(model)\n",
    "\n",
    "model = Bidirectional(LSTM(units=100, dropout=0.2, recurrent_dropout=0.2))(model)\n",
    "out = Dense(NUM_CLASSES, activation=\"softmax\")(model)  \n",
    "\n",
    "model = Model(ip, out)\n",
    "model.compile(optimizer=\"adam\", loss=\"categorical_crossentropy\", metrics=[\"accuracy\"])\n"
   ]
  },
  {
   "cell_type": "code",
   "execution_count": 34,
   "metadata": {},
   "outputs": [],
   "source": [
    "model = load_model(\"modelsV1/val_acc-improvement-04-0.9282.hdf5\")"
   ]
  },
  {
   "cell_type": "markdown",
   "metadata": {},
   "source": [
    "## tokenizing"
   ]
  },
  {
   "cell_type": "code",
   "execution_count": 35,
   "metadata": {},
   "outputs": [
    {
     "data": {
      "text/plain": [
       "dict_keys(['word2idx', 'class2idx', 'VOCAB_SIZE', 'NUM_CLASSES', 'MAX_SENT_LEN'])"
      ]
     },
     "execution_count": 35,
     "metadata": {},
     "output_type": "execute_result"
    }
   ],
   "source": [
    "# load pickle\n",
    "\n",
    "dict_file = open(\"data-pickle.txt\",\"rb\")\n",
    "dictionary = pickle.load(dict_file)\n",
    "dict_file.close()\n",
    "\n",
    "dictionary.keys()"
   ]
  },
  {
   "cell_type": "code",
   "execution_count": 18,
   "metadata": {},
   "outputs": [],
   "source": [
    "word2idx = dictionary['word2idx']\n",
    "class2idx = dictionary['class2idx']\n",
    "MAX_SENT_LEN = dictionary['MAX_SENT_LEN']\n",
    "VOCAB_SIZE = dictionary['VOCAB_SIZE']\n",
    "NUM_CLASSES = dictionary['NUM_CLASSES']\n",
    "\n",
    "classes = ['automobile', 'business', 'entertainment', 'politics', 'science', 'sports', 'technology']"
   ]
  },
  {
   "cell_type": "code",
   "execution_count": 42,
   "metadata": {},
   "outputs": [],
   "source": [
    "# removing stop words and punctiuation\n",
    "# converting to set to improve search\n",
    "STOPWORDS = set(stopwords.words('english')) \n",
    "\n",
    "def clean_text(text):\n",
    "    \n",
    "    #split based on everything except a-z0-9_'.-\n",
    "    \n",
    "    # remove .\n",
    "    text = re.sub(\"[.]\", \"\", text)\n",
    "    tokens = re.findall(\"[a-z0-9_'.\\-]+\", text.lower())\n",
    "    tokens = [w for w in tokens if not w in STOPWORDS and len(w) > 2 and len(w)<20]\n",
    "    text = \" \".join(tokens)\n",
    "    \n",
    "    return text\n",
    "\n",
    "\n",
    "def articleToVec(article):\n",
    "    article_vec = []\n",
    "    \n",
    "    for w in clean_text(article).split():    \n",
    "        try:\n",
    "            article_vec.append(word2idx[w])\n",
    "        \n",
    "        except KeyError as e:\n",
    "            article_vec.append(word2idx[\"UNK\"])\n",
    "    \n",
    "    # padding article_vec\n",
    "    # put [article_vec] as pad sequences needs list of list \n",
    "    article_vec = pad_sequences([article_vec], maxlen = MAX_SENT_LEN, padding = \"post\", value = word2idx['ENDPAD'], truncating = \"post\")\n",
    "    \n",
    "    # coz pad_sequences will return list of list\n",
    "    return np.array(article_vec[0])\n",
    "\n",
    "\n",
    "def make_prediction(article=\"\", true_category=\"\", needTranslation=False):\n",
    "    if not article:\n",
    "        article = input(\"Enter article:\")\n",
    "        true_category = input(\"\\nEnter true category:\")\n",
    "    \n",
    "    if needTranslation:\n",
    "        article = translate(article)\n",
    "        \n",
    "    article_vec = articleToVec(article)\n",
    "    pred_score = model.predict([[article_vec]])\n",
    "    \n",
    "    print(\"\\n***Article Snippet: \\n\", article[:500], )\n",
    "    print(\"\\n-->Scores:\", pred_score, pred_score.argmax(axis=1))\n",
    "    print(\"\\n-->Predicted Category:\", classes[pred_score.argmax(axis=1)[0]])\n",
    "    print(\"-->Actual Category:\", true_category)\n"
   ]
  },
  {
   "cell_type": "code",
   "execution_count": 19,
   "metadata": {},
   "outputs": [
    {
     "data": {
      "text/plain": [
       "157875"
      ]
     },
     "execution_count": 19,
     "metadata": {},
     "output_type": "execute_result"
    }
   ],
   "source": [
    "word2idx[\"UNK\"]"
   ]
  },
  {
   "cell_type": "code",
   "execution_count": 23,
   "metadata": {},
   "outputs": [
    {
     "data": {
      "text/plain": [
       "'lok sabha elections 2019- limit lies tejashwi yadav tweet attack modi bihar rallies prime minister modi address two back-to-back rallies gaya jamui witnessed several violent maoist incidents recent past tuesday. bihar chief minister janata dal united chief nitish kumar also campaign lok sabha election gaya prime minister. lok sabha elections updated apr 2019 ist correspondent hindustan times new delhi rashtriya janata dal leader tejashwi yadav attacked prime minister narendra modi ahead lok sabha election rallies bihar gaya jamui pulling promises made state last general polls. file photo rashtriya janata dal leader tejashwi yadav attacked prime minister narendra modi ahead lok sabha election rallies bihar gaya jamui pulling promises made state last general polls. prime minister modi address two back-to-back rallies gaya jamui witnessed several violent maoist incidents recent past tuesday. bihar chief minister janata dal united chief nitish kumar also campaign lok sabha election gaya prime minister. modi coming gaya again. prime minister narendramodi listen speech gave last time gaya carefully. sure embarrassed. one exaggerate much limit lies prime minister tejashwi yadav tweeted hindi tuesday. dear narendramodi reminding promised bihar bihari 10-03-2014 purnea. promised give bihar- special status special package special attention visiting bihar befool bihari first see mirror answer thyself wrote. bihar opposition alliance announced seat-sharing deal lok sabha elections rjd senior partner contest state lok sabha seats. congress party fight nine arrangement. former chief minister jitan ram manjhi contest gaya. bjp fielded candidate either gaya jamui constituencies vote april 11. bjp ally fielded vijay kumar manjhi gaya lok janshakti party ljp chirag paswan contest jamui. polling eastern state held seven phases lok sabha elections scheduled begin april end may 19. results declared may 23. first published apr 2019 ist tags narendra modi lok sabha election tejashwi yadav'"
      ]
     },
     "execution_count": 23,
     "metadata": {},
     "output_type": "execute_result"
    }
   ],
   "source": [
    "article = 'lok sabha elections 2019- limit lies tejashwi yadav tweet attack modi bihar rallies prime minister modi address two back-to-back rallies gaya jamui witnessed several violent maoist incidents recent past tuesday. bihar chief minister janata dal united chief nitish kumar also campaign lok sabha election gaya prime minister. lok sabha elections updated apr 2019 ist correspondent hindustan times new delhi rashtriya janata dal leader tejashwi yadav attacked prime minister narendra modi ahead lok sabha election rallies bihar gaya jamui pulling promises made state last general polls. file photo rashtriya janata dal leader tejashwi yadav attacked prime minister narendra modi ahead lok sabha election rallies bihar gaya jamui pulling promises made state last general polls. prime minister modi address two back-to-back rallies gaya jamui witnessed several violent maoist incidents recent past tuesday. bihar chief minister janata dal united chief nitish kumar also campaign lok sabha election gaya prime minister. modi coming gaya again. prime minister narendramodi listen speech gave last time gaya carefully. sure embarrassed. one exaggerate much limit lies prime minister tejashwi yadav tweeted hindi tuesday. dear narendramodi reminding promised bihar bihari 10-03-2014 purnea. promised give bihar- special status special package special attention visiting bihar befool bihari first see mirror answer thyself wrote. bihar opposition alliance announced seat-sharing deal lok sabha elections rjd senior partner contest state lok sabha seats. congress party fight nine arrangement. former chief minister jitan ram manjhi contest gaya. bjp fielded candidate either gaya jamui constituencies vote april 11. bjp ally fielded vijay kumar manjhi gaya lok janshakti party ljp chirag paswan contest jamui. polling eastern state held seven phases lok sabha elections scheduled begin april end may 19. results declared may 23. first published apr 2019 ist tags narendra modi lok sabha election tejashwi yadav'\n",
    "article"
   ]
  },
  {
   "cell_type": "code",
   "execution_count": 24,
   "metadata": {
    "scrolled": false
   },
   "outputs": [
    {
     "data": {
      "text/plain": [
       "array([154071,  84135,  15537,  43376,  83430, 152589,  12512,  72245,\n",
       "        96837, 114205,  22241,  73962,  78774, 153024,   4708,  22241,\n",
       "       117410,   9271,  68140,  78774, 106745,  58921,  54856,   1806,\n",
       "        71611, 115310,  66516,  70176,  56770, 113218,  73962,  32319,\n",
       "         4708,    359, 102343,   3314,  32319,   2781, 112564,  84198,\n",
       "        92741, 154071,  84135,  11651, 106745, 153024,   4708, 154071,\n",
       "        84135,  15537, 134369, 130331,  52456,  99235, 105215,   1517,\n",
       "        12336, 122739, 155841, 102968,    359, 102343, 105030,  12512,\n",
       "        72245,   4019, 153024,   4708,  11272,  22241, 112386, 154071,\n",
       "        84135,  11651,  78774,  73962, 106745,  58921,  92456, 125199,\n",
       "       114604, 108341, 105131, 132678, 103872, 100090, 113053, 102968,\n",
       "          359, 102343, 105030,  12512,  72245,   4019, 153024,   4708,\n",
       "        11272,  22241, 112386, 154071,  84135,  11651,  78774,  73962,\n",
       "       106745,  58921,  92456, 125199, 114604, 108341, 105131, 132678,\n",
       "       103872, 153024,   4708,  22241, 117410,   9271,  68140,  78774,\n",
       "       106745,  58921,  54856,   1806,  71611, 115310,  66516,  70176,\n",
       "        56770, 113218,  73962,  32319,   4708,    359, 102343,   3314,\n",
       "        32319,   2781, 112564,  84198,  92741, 154071,  84135,  11651,\n",
       "       106745, 153024,   4708,  22241,  32691, 106745, 153024,   4708,\n",
       "         7626,  21796,  66048,   9169, 105131,  21787, 106745,  80101,\n",
       "       136156, 127996, 109392,  42087,  87361,  83430, 152589, 153024,\n",
       "         4708,  12512,  72245, 120549,  52372, 113218, 114836,   7626,\n",
       "        83341,  80349,  73962, 143760, 108084,  23488,  80349, 104718,\n",
       "        77631,  73961, 141403,  73961,  39859,  73961,  79020,  89744,\n",
       "        73962, 146540, 143760,  86446,  49563, 141774,  66702,  26763,\n",
       "        74105,  73962,   1157, 144391,  90291,  32145, 105301, 154071,\n",
       "        84135,  15537,    586,  18432, 141205,  19847, 108341, 154071,\n",
       "        84135,  21894,  93289,  11349,  46998, 102875,  23422,  27476,\n",
       "        32319,   4708,  99577,  36216, 103509,  19847, 106745,  26119,\n",
       "       150262,  39052, 110810, 106745,  58921,  21104,  22810,  61922,\n",
       "        26119,  46664, 150262, 142411, 112564, 103509, 106745, 154071,\n",
       "        53335,  11349,  96475,  22514,   5074,  19847,  58921, 127639,\n",
       "        46486, 108341,  20908,  13965, 110563, 154071,  84135,  15537,\n",
       "       106991, 126286,  61922,  30210, 139811, 137671,  19412, 139811,\n",
       "        86446,  85612, 130331,  52456,  99235,  43468,  11272,  22241,\n",
       "       154071,  84135,  11651,  12512,  72245, 157876, 157876, 157876,\n",
       "       157876, 157876, 157876, 157876, 157876, 157876, 157876, 157876,\n",
       "       157876, 157876, 157876, 157876, 157876, 157876, 157876, 157876,\n",
       "       157876, 157876, 157876, 157876, 157876, 157876, 157876, 157876,\n",
       "       157876, 157876, 157876, 157876, 157876, 157876, 157876, 157876,\n",
       "       157876, 157876, 157876, 157876, 157876, 157876, 157876, 157876,\n",
       "       157876, 157876, 157876, 157876, 157876, 157876, 157876, 157876,\n",
       "       157876, 157876, 157876, 157876, 157876, 157876, 157876, 157876,\n",
       "       157876, 157876, 157876, 157876, 157876, 157876, 157876, 157876,\n",
       "       157876, 157876, 157876, 157876, 157876, 157876, 157876, 157876,\n",
       "       157876, 157876, 157876, 157876, 157876, 157876, 157876, 157876,\n",
       "       157876, 157876, 157876, 157876, 157876, 157876, 157876, 157876,\n",
       "       157876, 157876, 157876, 157876, 157876, 157876, 157876, 157876,\n",
       "       157876, 157876, 157876, 157876, 157876, 157876, 157876, 157876,\n",
       "       157876, 157876, 157876, 157876, 157876, 157876, 157876, 157876,\n",
       "       157876, 157876, 157876, 157876, 157876, 157876, 157876, 157876,\n",
       "       157876, 157876, 157876, 157876, 157876, 157876, 157876, 157876,\n",
       "       157876, 157876, 157876, 157876, 157876, 157876, 157876, 157876,\n",
       "       157876, 157876, 157876, 157876, 157876, 157876, 157876, 157876,\n",
       "       157876, 157876, 157876, 157876, 157876, 157876, 157876, 157876,\n",
       "       157876, 157876, 157876, 157876, 157876, 157876, 157876, 157876,\n",
       "       157876, 157876, 157876, 157876, 157876, 157876, 157876, 157876,\n",
       "       157876, 157876, 157876, 157876, 157876, 157876, 157876, 157876,\n",
       "       157876, 157876, 157876, 157876, 157876, 157876, 157876, 157876,\n",
       "       157876, 157876, 157876, 157876, 157876, 157876, 157876, 157876,\n",
       "       157876, 157876, 157876, 157876, 157876, 157876, 157876, 157876,\n",
       "       157876, 157876, 157876, 157876, 157876, 157876, 157876, 157876,\n",
       "       157876, 157876, 157876, 157876, 157876, 157876, 157876, 157876,\n",
       "       157876, 157876, 157876, 157876, 157876, 157876, 157876, 157876,\n",
       "       157876, 157876, 157876, 157876, 157876, 157876, 157876, 157876,\n",
       "       157876, 157876, 157876, 157876, 157876, 157876, 157876, 157876,\n",
       "       157876, 157876, 157876, 157876, 157876, 157876, 157876, 157876,\n",
       "       157876, 157876, 157876, 157876, 157876, 157876, 157876, 157876,\n",
       "       157876, 157876, 157876, 157876, 157876, 157876, 157876, 157876,\n",
       "       157876, 157876, 157876, 157876, 157876, 157876, 157876, 157876,\n",
       "       157876, 157876, 157876, 157876, 157876, 157876, 157876, 157876,\n",
       "       157876, 157876, 157876, 157876, 157876, 157876, 157876, 157876,\n",
       "       157876, 157876, 157876, 157876, 157876, 157876, 157876, 157876,\n",
       "       157876, 157876, 157876, 157876, 157876, 157876, 157876, 157876,\n",
       "       157876, 157876, 157876, 157876, 157876, 157876, 157876, 157876],\n",
       "      dtype=int32)"
      ]
     },
     "execution_count": 24,
     "metadata": {},
     "output_type": "execute_result"
    }
   ],
   "source": [
    "articleToVec(article)"
   ]
  },
  {
   "cell_type": "markdown",
   "metadata": {},
   "source": [
    "## testing"
   ]
  },
  {
   "cell_type": "code",
   "execution_count": 27,
   "metadata": {},
   "outputs": [
    {
     "name": "stdout",
     "output_type": "stream",
     "text": [
      "**Article Snippet: \n",
      " lok sabha elections 2019- limit lies tejashwi yadav tweet attack modi bihar rallies prime minister modi address two back-to-back rallies gaya jamui witnessed several violent maoist incidents recent pa\n",
      "\n",
      "-->Scores: [[3.3693539e-04 3.4328463e-04 3.4190243e-04 9.9885726e-01 2.0349758e-05\n",
      "  8.8855530e-05 1.1389245e-05]] [3]\n",
      "\n",
      "-->Predicted Category: politics\n",
      "-->Actual Category: politics\n"
     ]
    }
   ],
   "source": [
    "make_prediction(article, true_category=\"politics\")"
   ]
  },
  {
   "cell_type": "code",
   "execution_count": 41,
   "metadata": {},
   "outputs": [
    {
     "name": "stdout",
     "output_type": "stream",
     "text": [
      "Enter article:KXIP captain Ravichandran Ashwin has said he is the best spinner in IPL. \"It's my 11th season of IPL, so I'd like to think I have done a fairly good job. I have never shied away from competing with anyone. I am right on top of the pile,\" added Ashwin, who has taken 14 wickets in 12 IPL 2019 matches.\n",
      "\n",
      "Enter true category:sports\n",
      "\n",
      "***Article Snippet: \n",
      " KXIP captain Ravichandran Ashwin has said he is the best spinner in IPL. \"It's my 11th season of IPL, so I'd like to think I have done a fairly good job. I have never shied away from competing with anyone. I am right on top of the pile,\" added Ashwin, who has taken 14 wickets in 12 IPL 2019 matches.\n",
      "\n",
      "-->Scores: [[4.8535994e-06 2.7143302e-05 5.9570652e-04 7.1943272e-05 1.0966123e-03\n",
      "  9.9818319e-01 2.0410595e-05]] [5]\n",
      "\n",
      "-->Predicted Category: sports\n",
      "-->Actual Category: sports\n"
     ]
    }
   ],
   "source": [
    "make_prediction()"
   ]
  },
  {
   "cell_type": "code",
   "execution_count": 43,
   "metadata": {},
   "outputs": [
    {
     "name": "stdout",
     "output_type": "stream",
     "text": [
      "Enter article:चुनाव आयोग ने उत्तर प्रदेश के मुख्यमंत्री योगी आदित्यनाथ द्वारा संभल लोकसभा सीट से सपा प्रत्याशी शफीकुर रहमान बर्क को 'बाबर की औलाद' कहने पर उनके खिलाफ नोटिस जारी किया है। आयोग ने उन्हें जवाब देने के लिए 24 घंटे का समय दिया है। योगी ने शफीकुर को लेकर कहा था, \"बाबर की औलाद को देश सौंपना चाहते हो क्या?\"\n",
      "\n",
      "Enter true category:politics\n",
      "\n",
      "***Article Snippet: \n",
      " The Election Commission has issued notice to the Shafiqur Rehman Burke, the SP candidate from the Sambhal Lok Sabha constituency, Uttar Pradesh's Yogi Adityanath, against him when he called Babar's childhood. The Commission has given 24 hours to answer them. The Yogi had said about Shafiqur, \"Do you want to hand over Babar's blessing to the nation?\"\n",
      "\n",
      "-->Scores: [[5.2128395e-04 1.1115491e-03 1.9068865e-03 9.9594158e-01 5.7914742e-05\n",
      "  4.1967226e-04 4.1089213e-05]] [3]\n",
      "\n",
      "-->Predicted Category: politics\n",
      "-->Actual Category: politics\n"
     ]
    }
   ],
   "source": [
    "make_prediction(needTranslation=True)"
   ]
  }
 ],
 "metadata": {
  "kernelspec": {
   "display_name": "Python 3",
   "language": "python",
   "name": "python3"
  },
  "language_info": {
   "codemirror_mode": {
    "name": "ipython",
    "version": 3
   },
   "file_extension": ".py",
   "mimetype": "text/x-python",
   "name": "python",
   "nbconvert_exporter": "python",
   "pygments_lexer": "ipython3",
   "version": "3.6.8"
  },
  "toc": {
   "base_numbering": 1,
   "nav_menu": {},
   "number_sections": true,
   "sideBar": true,
   "skip_h1_title": false,
   "title_cell": "Table of Contents",
   "title_sidebar": "Contents",
   "toc_cell": false,
   "toc_position": {
    "height": "calc(100% - 180px)",
    "left": "10px",
    "top": "150px",
    "width": "165px"
   },
   "toc_section_display": true,
   "toc_window_display": true
  },
  "varInspector": {
   "cols": {
    "lenName": 16,
    "lenType": 16,
    "lenVar": "60"
   },
   "kernels_config": {
    "python": {
     "delete_cmd_postfix": "",
     "delete_cmd_prefix": "del ",
     "library": "var_list.py",
     "varRefreshCmd": "print(var_dic_list())"
    },
    "r": {
     "delete_cmd_postfix": ") ",
     "delete_cmd_prefix": "rm(",
     "library": "var_list.r",
     "varRefreshCmd": "cat(var_dic_list()) "
    }
   },
   "types_to_exclude": [
    "module",
    "function",
    "builtin_function_or_method",
    "instance",
    "_Feature"
   ],
   "window_display": false
  }
 },
 "nbformat": 4,
 "nbformat_minor": 2
}
