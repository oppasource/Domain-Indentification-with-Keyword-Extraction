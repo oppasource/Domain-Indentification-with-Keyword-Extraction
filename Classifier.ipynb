{
 "cells": [
  {
   "cell_type": "code",
   "execution_count": 1,
   "metadata": {},
   "outputs": [],
   "source": [
    "import numpy as np\n",
    "import pandas as pd\n",
    "import nltk\n",
    "from nltk.corpus import stopwords\n",
    "import string\n",
    "import os\n",
    "import itertools\n",
    "import matplotlib.pyplot as plt\n",
    "\n",
    "from sklearn.model_selection import train_test_split\n",
    "from sklearn.linear_model import LogisticRegression\n",
    "from sklearn import svm\n",
    "from sklearn.metrics import confusion_matrix\n",
    "\n",
    "import warnings\n",
    "warnings.simplefilter(action='ignore', category=FutureWarning)\n",
    "\n",
    "%matplotlib inline"
   ]
  },
  {
   "cell_type": "code",
   "execution_count": null,
   "metadata": {},
   "outputs": [],
   "source": [
    "from gensim.scripts.glove2word2vec import glove2word2vec\n",
    "from gensim.models.keyedvectors import KeyedVectors\n",
    "\n",
    "if os.path.isfile('pretrained_embeds/glove.6B/glove.6B.50d_w2v.txt'):\n",
    "    glove_model = KeyedVectors.load_word2vec_format(\"pretrained_embeds/glove.6B/glove.6B.50d_w2v.txt\", binary=False)\n",
    "else:\n",
    "    glove2word2vec(glove_input_file=\"pretrained_embeds/glove.6B/glove.6B.50d.txt\", word2vec_output_file=\"pretrained_embeds/glove.6B/glove.6B.50d_w2v.txt\")\n",
    "    glove_model = KeyedVectors.load_word2vec_format(\"pretrained_embeds/glove.6B/glove.6B.50d_w2v.txt\", binary=False)\n",
    "\n",
    "def get_embed(word):\n",
    "    # Case folding\n",
    "    word = word.lower()\n",
    "    try:\n",
    "        return (glove_model.get_vector(word))\n",
    "    except:\n",
    "        return (glove_model.get_vector('<unk>'))"
   ]
  },
  {
   "cell_type": "code",
   "execution_count": null,
   "metadata": {},
   "outputs": [],
   "source": [
    "data_df = pd.read_pickle(\"data_df_final.pkl\")\n",
    "data = data_df[data_df['source_article']!='NA'][['source_article', 'category']]\n",
    "data.sample(frac=1).head()"
   ]
  },
  {
   "cell_type": "code",
   "execution_count": null,
   "metadata": {},
   "outputs": [],
   "source": [
    "category2id = {}\n",
    "count = 0\n",
    "\n",
    "for c in set(data['category'].tolist()):\n",
    "    category2id[c] = count\n",
    "    count += 1\n",
    "\n",
    "l = ['1']*7\n",
    "for k,v in category2id.items():\n",
    "    l[v] = k\n",
    "    \n",
    "print(category2id)"
   ]
  },
  {
   "cell_type": "code",
   "execution_count": null,
   "metadata": {},
   "outputs": [],
   "source": [
    "stop = stopwords.words('english') + list(string.punctuation)\n",
    "\n",
    "x = []\n",
    "y = []\n",
    "\n",
    "for index, row in data.iterrows():\n",
    "    article = row['source_article']\n",
    "    article = article.lower()\n",
    "    article = nltk.word_tokenize(article)\n",
    "    article = [get_embed(i) for i in article if i not in stop]\n",
    "    article = np.array(article)\n",
    "    article = article.mean(axis=0)\n",
    "    x.append(article)\n",
    "    \n",
    "    y.append(category2id[row['category']])\n",
    "\n",
    "# Train-Test split\n",
    "x_train, x_test, y_train, y_test = train_test_split(x, y, test_size=0.20, random_state=42)"
   ]
  },
  {
   "cell_type": "code",
   "execution_count": null,
   "metadata": {},
   "outputs": [],
   "source": [
    "def display_cm(cm):\n",
    "    plt.figure(figsize=(6,6))\n",
    "    plt.imshow(cm, interpolation='nearest', cmap=plt.cm.Blues)\n",
    "    plt.xticks(np.arange(len(l)), l, rotation=45)\n",
    "    plt.yticks(np.arange(len(l)), l)\n",
    "    plt.ylabel('True label')\n",
    "    plt.xlabel('Predicted label')\n",
    "\n",
    "    thresh = cm.max() / 2.\n",
    "    for i, j in itertools.product(range(cm.shape[0]), range(cm.shape[1])):\n",
    "        plt.text(j, i, cm[i, j], horizontalalignment=\"center\", color=\"white\" if cm[i, j] > thresh else \"black\")\n",
    "\n",
    "    plt.show()"
   ]
  },
  {
   "cell_type": "code",
   "execution_count": null,
   "metadata": {
    "scrolled": false
   },
   "outputs": [],
   "source": [
    "clf = svm.SVC(C=100, gamma='scale')\n",
    "clf.fit(x_train, y_train)\n",
    "pred_y = clf.predict(x_test)\n",
    "cm = confusion_matrix(y_test, pred_y)\n",
    "display_cm(cm)\n",
    "print('Accuracy for SVM: ' + str(clf.score(x_test, y_test)* 100))"
   ]
  },
  {
   "cell_type": "code",
   "execution_count": null,
   "metadata": {},
   "outputs": [],
   "source": [
    "clf = LogisticRegression(random_state=0)\n",
    "clf.fit(x_train, y_train)\n",
    "\n",
    "pred_y = clf.predict(x_test)\n",
    "cm = confusion_matrix(y_test, pred_y)\n",
    "display_cm(cm)\n",
    "print('Accuracy for Logistic Regression: ' + str(clf.score(x_test, y_test)* 100))"
   ]
  }
 ],
 "metadata": {
  "kernelspec": {
   "display_name": "Python 3",
   "language": "python",
   "name": "python3"
  },
  "language_info": {
   "codemirror_mode": {
    "name": "ipython",
    "version": 3
   },
   "file_extension": ".py",
   "mimetype": "text/x-python",
   "name": "python",
   "nbconvert_exporter": "python",
   "pygments_lexer": "ipython3",
   "version": "3.5.2"
  }
 },
 "nbformat": 4,
 "nbformat_minor": 2
}
